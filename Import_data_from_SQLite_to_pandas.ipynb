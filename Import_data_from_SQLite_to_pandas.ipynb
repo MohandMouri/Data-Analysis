{
  "nbformat": 4,
  "nbformat_minor": 0,
  "metadata": {
    "colab": {
      "provenance": [],
      "authorship_tag": "ABX9TyNNkYl7i4LuiFnd2cgUYlEA",
      "include_colab_link": true
    },
    "kernelspec": {
      "name": "python3",
      "display_name": "Python 3"
    },
    "language_info": {
      "name": "python"
    }
  },
  "cells": [
    {
      "cell_type": "markdown",
      "metadata": {
        "id": "view-in-github",
        "colab_type": "text"
      },
      "source": [
        "<a href=\"https://colab.research.google.com/github/MohandMouri/Data-Analysis/blob/main/Import_data_from_SQLite_to_pandas.ipynb\" target=\"_parent\"><img src=\"https://colab.research.google.com/assets/colab-badge.svg\" alt=\"Open In Colab\"/></a>"
      ]
    },
    {
      "cell_type": "code",
      "source": [
        "import sqlite3\n",
        "\n",
        "conn = sqlite3.connect('test_database') \n",
        "c = conn.cursor()\n",
        "\n",
        "c.execute('''\n",
        "          CREATE TABLE IF NOT EXISTS products\n",
        "          ([product_id] INTEGER PRIMARY KEY, [product_name] TEXT, [price] INTEGER)\n",
        "          ''')\n",
        "          \n",
        "c.execute('''\n",
        "          INSERT INTO products (product_id, product_name, price)\n",
        "\n",
        "                VALUES\n",
        "                (1,'Computer',800),\n",
        "                (2,'Printer',200),\n",
        "                (3,'Tablet',300),\n",
        "                (4,'Desk',450),\n",
        "                (5,'Chair',150)\n",
        "          ''')                     \n",
        "\n",
        "conn.commit()"
      ],
      "metadata": {
        "id": "n7NPaJ7ZGxIf"
      },
      "execution_count": 2,
      "outputs": []
    },
    {
      "cell_type": "code",
      "source": [
        "import pandas as pd\n",
        "\n",
        "sql_query = pd.read_sql_query ('''\n",
        "                               SELECT\n",
        "                               *\n",
        "                               FROM products\n",
        "                               ''', conn)\n",
        "\n",
        "df = pd.DataFrame(sql_query, columns = ['product_id', 'product_name', 'price'])\n",
        "print (df)"
      ],
      "metadata": {
        "colab": {
          "base_uri": "https://localhost:8080/"
        },
        "id": "cQdc0oieG7xk",
        "outputId": "1f52e219-99de-49b4-96f8-9d03e008c904"
      },
      "execution_count": 4,
      "outputs": [
        {
          "output_type": "stream",
          "name": "stdout",
          "text": [
            "   product_id product_name  price\n",
            "0           1     Computer    800\n",
            "1           2      Printer    200\n",
            "2           3       Tablet    300\n",
            "3           4         Desk    450\n",
            "4           5        Chair    150\n"
          ]
        }
      ]
    },
    {
      "cell_type": "code",
      "source": [
        "max_price = df['price'].max()\n",
        "print (max_price)"
      ],
      "metadata": {
        "colab": {
          "base_uri": "https://localhost:8080/"
        },
        "id": "fXZFyuEIHY2j",
        "outputId": "2ac15afc-bcce-47bd-a393-c1df7cb21b5b"
      },
      "execution_count": 5,
      "outputs": [
        {
          "output_type": "stream",
          "name": "stdout",
          "text": [
            "800\n"
          ]
        }
      ]
    }
  ]
}